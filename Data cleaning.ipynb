{
 "cells": [
  {
   "cell_type": "code",
   "execution_count": 11,
   "id": "80d015cb-1cda-498b-a811-8690d0668f5f",
   "metadata": {},
   "outputs": [],
   "source": [
    "import pandas as pd"
   ]
  },
  {
   "cell_type": "code",
   "execution_count": 13,
   "id": "048f733c-1ca4-418c-a5d0-7be81fd29ee9",
   "metadata": {},
   "outputs": [],
   "source": [
    "# Load the dataset\n",
    "df = pd.read_csv(\"C:/Users/thawe/OneDrive/Desktop/archive (5)/Employee.csv\")"
   ]
  },
  {
   "cell_type": "code",
   "execution_count": 15,
   "id": "1f00d6fa-f129-4c7f-adb7-1a63a5d4ca9d",
   "metadata": {},
   "outputs": [],
   "source": [
    "# Remove duplicate rows\n",
    "df_cleaned = df.drop_duplicates()\n"
   ]
  },
  {
   "cell_type": "code",
   "execution_count": 17,
   "id": "59187169-0af8-4f78-a61f-92b7d4c1766b",
   "metadata": {},
   "outputs": [],
   "source": [
    "# Drop rows with missing values (if any)\n",
    "df_cleaned = df_cleaned.dropna()"
   ]
  },
  {
   "cell_type": "code",
   "execution_count": 19,
   "id": "8063eb37-bb8d-43b9-ab3e-711f7ca42b22",
   "metadata": {},
   "outputs": [],
   "source": [
    "# Limit the dataset to the first 200 rows\n",
    "df_limited = df_cleaned.head(200)\n"
   ]
  },
  {
   "cell_type": "code",
   "execution_count": 21,
   "id": "308f9ea6-c753-44c2-8767-f6886760110e",
   "metadata": {},
   "outputs": [],
   "source": [
    "# Save the cleaned and limited dataset to a new CSV file\n",
    "df_limited.to_csv(\"Cleaned_Employee_Limited.csv\", index=False)"
   ]
  },
  {
   "cell_type": "code",
   "execution_count": 23,
   "id": "884a4d8d-c855-431c-bf27-4aa18216ec49",
   "metadata": {},
   "outputs": [
    {
     "name": "stdout",
     "output_type": "stream",
     "text": [
      "Cleaned file saved as 'Cleaned_Employee_Limited.csv'\n"
     ]
    }
   ],
   "source": [
    "print(\"Cleaned file saved as 'Cleaned_Employee_Limited.csv'\")"
   ]
  },
  {
   "cell_type": "code",
   "execution_count": null,
   "id": "787c7dd5-6b31-4f45-ae4a-bef591cd2e64",
   "metadata": {},
   "outputs": [],
   "source": []
  }
 ],
 "metadata": {
  "kernelspec": {
   "display_name": "Python 3 (ipykernel)",
   "language": "python",
   "name": "python3"
  },
  "language_info": {
   "codemirror_mode": {
    "name": "ipython",
    "version": 3
   },
   "file_extension": ".py",
   "mimetype": "text/x-python",
   "name": "python",
   "nbconvert_exporter": "python",
   "pygments_lexer": "ipython3",
   "version": "3.12.4"
  }
 },
 "nbformat": 4,
 "nbformat_minor": 5
}
